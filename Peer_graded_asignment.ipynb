{
 "cells": [
  {
   "cell_type": "markdown",
   "metadata": {
    "collapsed": true
   },
   "source": [
    "# My Jupyter Notebook on IBM Watson Studio"
   ]
  },
  {
   "cell_type": "markdown",
   "metadata": {},
   "source": [
    "**Santiago Bonilla**\n",
    "Data scientist"
   ]
  },
  {
   "cell_type": "markdown",
   "metadata": {},
   "source": [
    "*I am deeply interested in data science because it will allow me to use many skills I have learned and earn a competitive salary working remotely*"
   ]
  },
  {
   "cell_type": "markdown",
   "metadata": {},
   "source": [
    "### The following code computes the area of a triangle given its base and height"
   ]
  },
  {
   "cell_type": "code",
   "execution_count": 3,
   "metadata": {},
   "outputs": [
    {
     "name": "stdout",
     "output_type": "stream",
     "text": [
      "the area of the triangle is 20.0\n"
     ]
    }
   ],
   "source": [
    "base=5\n",
    "height=8\n",
    "print(\"the area of the triangle is\", (base*height)/2)"
   ]
  },
  {
   "cell_type": "markdown",
   "metadata": {},
   "source": [
    "A horizontal rule will appear below this sentence\n",
    "***\n",
    "Now, the numbered list:\n",
    "1. Buy bread\n",
    "2. Buy Coca-Cola zero\n",
    "3. Enjoy\n",
    "***\n",
    "And finally, here's a link to interesting info about <a href=\"https://en.wikipedia.org/wiki/Triangle\">triangles</a>"
   ]
  }
 ],
 "metadata": {
  "kernelspec": {
   "display_name": "Python 3.10",
   "language": "python",
   "name": "python3"
  },
  "language_info": {
   "codemirror_mode": {
    "name": "ipython",
    "version": 3
   },
   "file_extension": ".py",
   "mimetype": "text/x-python",
   "name": "python",
   "nbconvert_exporter": "python",
   "pygments_lexer": "ipython3",
   "version": "3.10.6"
  }
 },
 "nbformat": 4,
 "nbformat_minor": 1
}
